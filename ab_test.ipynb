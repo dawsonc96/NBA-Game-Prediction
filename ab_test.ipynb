{
 "cells": [
  {
   "cell_type": "code",
   "execution_count": 1,
   "metadata": {},
   "outputs": [],
   "source": [
    "import random\n",
    "import numpy as np\n",
    "import matplotlib.pyplot as plt\n",
    "%matplotlib inline\n",
    "import pandas as pd"
   ]
  },
  {
   "cell_type": "markdown",
   "metadata": {},
   "source": [
    "#### Experiment Setup\n",
    "Because I want to investigate the effect of 3pt shooting after GSW won their championship. I will only look at data after 2015 onward."
   ]
  },
  {
   "cell_type": "markdown",
   "metadata": {},
   "source": [
    "#### Motivation\n",
    "Since the Golden State Warriors, led by superstar Stephen Curry, won their NBA championship in 2015, there has been a increase in 3-pt shooting in the games. We now know that 3-pt shooting team can win championship, but we might want to know how important it is to have a high team 3-pt field goal percentage in order to win games."
   ]
  },
  {
   "cell_type": "code",
   "execution_count": 2,
   "metadata": {},
   "outputs": [
    {
     "data": {
      "text/html": [
       "<div>\n",
       "<style scoped>\n",
       "    .dataframe tbody tr th:only-of-type {\n",
       "        vertical-align: middle;\n",
       "    }\n",
       "\n",
       "    .dataframe tbody tr th {\n",
       "        vertical-align: top;\n",
       "    }\n",
       "\n",
       "    .dataframe thead th {\n",
       "        text-align: right;\n",
       "    }\n",
       "</style>\n",
       "<table border=\"1\" class=\"dataframe\">\n",
       "  <thead>\n",
       "    <tr style=\"text-align: right;\">\n",
       "      <th></th>\n",
       "      <th>GAME_DATE_EST</th>\n",
       "      <th>GAME_ID</th>\n",
       "      <th>GAME_STATUS_TEXT</th>\n",
       "      <th>HOME_TEAM_ID</th>\n",
       "      <th>VISITOR_TEAM_ID</th>\n",
       "      <th>SEASON</th>\n",
       "      <th>TEAM_ID_home</th>\n",
       "      <th>PTS_home</th>\n",
       "      <th>FG_PCT_home</th>\n",
       "      <th>FT_PCT_home</th>\n",
       "      <th>...</th>\n",
       "      <th>AST_home</th>\n",
       "      <th>REB_home</th>\n",
       "      <th>TEAM_ID_away</th>\n",
       "      <th>PTS_away</th>\n",
       "      <th>FG_PCT_away</th>\n",
       "      <th>FT_PCT_away</th>\n",
       "      <th>FG3_PCT_away</th>\n",
       "      <th>AST_away</th>\n",
       "      <th>REB_away</th>\n",
       "      <th>HOME_TEAM_WINS</th>\n",
       "    </tr>\n",
       "  </thead>\n",
       "  <tbody>\n",
       "    <tr>\n",
       "      <th>0</th>\n",
       "      <td>2020-12-19</td>\n",
       "      <td>12000047</td>\n",
       "      <td>Final</td>\n",
       "      <td>1610612753</td>\n",
       "      <td>1610612766</td>\n",
       "      <td>2020</td>\n",
       "      <td>1610612753</td>\n",
       "      <td>120.0</td>\n",
       "      <td>0.433</td>\n",
       "      <td>0.792</td>\n",
       "      <td>...</td>\n",
       "      <td>23.0</td>\n",
       "      <td>50.0</td>\n",
       "      <td>1610612766</td>\n",
       "      <td>117.0</td>\n",
       "      <td>0.444</td>\n",
       "      <td>0.864</td>\n",
       "      <td>0.439</td>\n",
       "      <td>21.0</td>\n",
       "      <td>52.0</td>\n",
       "      <td>1</td>\n",
       "    </tr>\n",
       "    <tr>\n",
       "      <th>1</th>\n",
       "      <td>2020-12-19</td>\n",
       "      <td>12000048</td>\n",
       "      <td>Final</td>\n",
       "      <td>1610612764</td>\n",
       "      <td>1610612765</td>\n",
       "      <td>2020</td>\n",
       "      <td>1610612764</td>\n",
       "      <td>99.0</td>\n",
       "      <td>0.427</td>\n",
       "      <td>0.625</td>\n",
       "      <td>...</td>\n",
       "      <td>24.0</td>\n",
       "      <td>45.0</td>\n",
       "      <td>1610612765</td>\n",
       "      <td>96.0</td>\n",
       "      <td>0.402</td>\n",
       "      <td>0.647</td>\n",
       "      <td>0.326</td>\n",
       "      <td>18.0</td>\n",
       "      <td>51.0</td>\n",
       "      <td>1</td>\n",
       "    </tr>\n",
       "    <tr>\n",
       "      <th>2</th>\n",
       "      <td>2020-12-19</td>\n",
       "      <td>12000049</td>\n",
       "      <td>Final</td>\n",
       "      <td>1610612763</td>\n",
       "      <td>1610612737</td>\n",
       "      <td>2020</td>\n",
       "      <td>1610612763</td>\n",
       "      <td>116.0</td>\n",
       "      <td>0.400</td>\n",
       "      <td>0.744</td>\n",
       "      <td>...</td>\n",
       "      <td>21.0</td>\n",
       "      <td>43.0</td>\n",
       "      <td>1610612737</td>\n",
       "      <td>117.0</td>\n",
       "      <td>0.422</td>\n",
       "      <td>0.837</td>\n",
       "      <td>0.297</td>\n",
       "      <td>24.0</td>\n",
       "      <td>47.0</td>\n",
       "      <td>0</td>\n",
       "    </tr>\n",
       "    <tr>\n",
       "      <th>3</th>\n",
       "      <td>2020-12-18</td>\n",
       "      <td>12000039</td>\n",
       "      <td>Final</td>\n",
       "      <td>1610612754</td>\n",
       "      <td>1610612755</td>\n",
       "      <td>2020</td>\n",
       "      <td>1610612754</td>\n",
       "      <td>107.0</td>\n",
       "      <td>0.371</td>\n",
       "      <td>0.692</td>\n",
       "      <td>...</td>\n",
       "      <td>19.0</td>\n",
       "      <td>45.0</td>\n",
       "      <td>1610612755</td>\n",
       "      <td>113.0</td>\n",
       "      <td>0.533</td>\n",
       "      <td>0.629</td>\n",
       "      <td>0.355</td>\n",
       "      <td>23.0</td>\n",
       "      <td>48.0</td>\n",
       "      <td>0</td>\n",
       "    </tr>\n",
       "    <tr>\n",
       "      <th>4</th>\n",
       "      <td>2020-12-18</td>\n",
       "      <td>12000040</td>\n",
       "      <td>Final</td>\n",
       "      <td>1610612761</td>\n",
       "      <td>1610612748</td>\n",
       "      <td>2020</td>\n",
       "      <td>1610612761</td>\n",
       "      <td>105.0</td>\n",
       "      <td>0.380</td>\n",
       "      <td>0.737</td>\n",
       "      <td>...</td>\n",
       "      <td>27.0</td>\n",
       "      <td>37.0</td>\n",
       "      <td>1610612748</td>\n",
       "      <td>117.0</td>\n",
       "      <td>0.534</td>\n",
       "      <td>0.741</td>\n",
       "      <td>0.514</td>\n",
       "      <td>30.0</td>\n",
       "      <td>51.0</td>\n",
       "      <td>0</td>\n",
       "    </tr>\n",
       "  </tbody>\n",
       "</table>\n",
       "<p>5 rows × 21 columns</p>\n",
       "</div>"
      ],
      "text/plain": [
       "  GAME_DATE_EST   GAME_ID GAME_STATUS_TEXT  HOME_TEAM_ID  VISITOR_TEAM_ID  \\\n",
       "0    2020-12-19  12000047            Final    1610612753       1610612766   \n",
       "1    2020-12-19  12000048            Final    1610612764       1610612765   \n",
       "2    2020-12-19  12000049            Final    1610612763       1610612737   \n",
       "3    2020-12-18  12000039            Final    1610612754       1610612755   \n",
       "4    2020-12-18  12000040            Final    1610612761       1610612748   \n",
       "\n",
       "   SEASON  TEAM_ID_home  PTS_home  FG_PCT_home  FT_PCT_home  ...  AST_home  \\\n",
       "0    2020    1610612753     120.0        0.433        0.792  ...      23.0   \n",
       "1    2020    1610612764      99.0        0.427        0.625  ...      24.0   \n",
       "2    2020    1610612763     116.0        0.400        0.744  ...      21.0   \n",
       "3    2020    1610612754     107.0        0.371        0.692  ...      19.0   \n",
       "4    2020    1610612761     105.0        0.380        0.737  ...      27.0   \n",
       "\n",
       "   REB_home  TEAM_ID_away  PTS_away  FG_PCT_away  FT_PCT_away  FG3_PCT_away  \\\n",
       "0      50.0    1610612766     117.0        0.444        0.864         0.439   \n",
       "1      45.0    1610612765      96.0        0.402        0.647         0.326   \n",
       "2      43.0    1610612737     117.0        0.422        0.837         0.297   \n",
       "3      45.0    1610612755     113.0        0.533        0.629         0.355   \n",
       "4      37.0    1610612748     117.0        0.534        0.741         0.514   \n",
       "\n",
       "   AST_away  REB_away  HOME_TEAM_WINS  \n",
       "0      21.0      52.0               1  \n",
       "1      18.0      51.0               1  \n",
       "2      24.0      47.0               0  \n",
       "3      23.0      48.0               0  \n",
       "4      30.0      51.0               0  \n",
       "\n",
       "[5 rows x 21 columns]"
      ]
     },
     "execution_count": 2,
     "metadata": {},
     "output_type": "execute_result"
    }
   ],
   "source": [
    "df = pd.read_csv('data/games.csv')\n",
    "df = df[df.SEASON > 2014]\n",
    "df.head()"
   ]
  },
  {
   "cell_type": "markdown",
   "metadata": {},
   "source": [
    "#### Creation of treatment and control group:\n",
    "\n",
    "Treatment group includes data where a team won given it has higher 3pt field goal percentage (3pt-fg) than the other team\n",
    "Control group includes data where a team won given it has lower or equal 3pt field goal percentage (3pt-fg) than the other team"
   ]
  },
  {
   "cell_type": "code",
   "execution_count": 3,
   "metadata": {},
   "outputs": [
    {
     "data": {
      "text/html": [
       "<div>\n",
       "<style scoped>\n",
       "    .dataframe tbody tr th:only-of-type {\n",
       "        vertical-align: middle;\n",
       "    }\n",
       "\n",
       "    .dataframe tbody tr th {\n",
       "        vertical-align: top;\n",
       "    }\n",
       "\n",
       "    .dataframe thead th {\n",
       "        text-align: right;\n",
       "    }\n",
       "</style>\n",
       "<table border=\"1\" class=\"dataframe\">\n",
       "  <thead>\n",
       "    <tr style=\"text-align: right;\">\n",
       "      <th></th>\n",
       "      <th>FG3_PCT_home</th>\n",
       "      <th>FG3_PCT_away</th>\n",
       "      <th>HOME_TEAM_WINS</th>\n",
       "      <th>HOME_3PT</th>\n",
       "    </tr>\n",
       "  </thead>\n",
       "  <tbody>\n",
       "    <tr>\n",
       "      <th>0</th>\n",
       "      <td>0.425</td>\n",
       "      <td>0.439</td>\n",
       "      <td>1</td>\n",
       "      <td>0</td>\n",
       "    </tr>\n",
       "    <tr>\n",
       "      <th>1</th>\n",
       "      <td>0.295</td>\n",
       "      <td>0.326</td>\n",
       "      <td>1</td>\n",
       "      <td>0</td>\n",
       "    </tr>\n",
       "    <tr>\n",
       "      <th>2</th>\n",
       "      <td>0.396</td>\n",
       "      <td>0.297</td>\n",
       "      <td>0</td>\n",
       "      <td>1</td>\n",
       "    </tr>\n",
       "    <tr>\n",
       "      <th>3</th>\n",
       "      <td>0.262</td>\n",
       "      <td>0.355</td>\n",
       "      <td>0</td>\n",
       "      <td>0</td>\n",
       "    </tr>\n",
       "    <tr>\n",
       "      <th>4</th>\n",
       "      <td>0.356</td>\n",
       "      <td>0.514</td>\n",
       "      <td>0</td>\n",
       "      <td>0</td>\n",
       "    </tr>\n",
       "    <tr>\n",
       "      <th>...</th>\n",
       "      <td>...</td>\n",
       "      <td>...</td>\n",
       "      <td>...</td>\n",
       "      <td>...</td>\n",
       "    </tr>\n",
       "    <tr>\n",
       "      <th>22097</th>\n",
       "      <td>0.182</td>\n",
       "      <td>0.333</td>\n",
       "      <td>1</td>\n",
       "      <td>0</td>\n",
       "    </tr>\n",
       "    <tr>\n",
       "      <th>22098</th>\n",
       "      <td>0.261</td>\n",
       "      <td>0.133</td>\n",
       "      <td>0</td>\n",
       "      <td>1</td>\n",
       "    </tr>\n",
       "    <tr>\n",
       "      <th>22099</th>\n",
       "      <td>0.231</td>\n",
       "      <td>0.387</td>\n",
       "      <td>0</td>\n",
       "      <td>0</td>\n",
       "    </tr>\n",
       "    <tr>\n",
       "      <th>22100</th>\n",
       "      <td>0.286</td>\n",
       "      <td>0.344</td>\n",
       "      <td>0</td>\n",
       "      <td>0</td>\n",
       "    </tr>\n",
       "    <tr>\n",
       "      <th>22101</th>\n",
       "      <td>0.281</td>\n",
       "      <td>0.389</td>\n",
       "      <td>1</td>\n",
       "      <td>0</td>\n",
       "    </tr>\n",
       "  </tbody>\n",
       "</table>\n",
       "<p>6871 rows × 4 columns</p>\n",
       "</div>"
      ],
      "text/plain": [
       "       FG3_PCT_home  FG3_PCT_away  HOME_TEAM_WINS  HOME_3PT\n",
       "0             0.425         0.439               1         0\n",
       "1             0.295         0.326               1         0\n",
       "2             0.396         0.297               0         1\n",
       "3             0.262         0.355               0         0\n",
       "4             0.356         0.514               0         0\n",
       "...             ...           ...             ...       ...\n",
       "22097         0.182         0.333               1         0\n",
       "22098         0.261         0.133               0         1\n",
       "22099         0.231         0.387               0         0\n",
       "22100         0.286         0.344               0         0\n",
       "22101         0.281         0.389               1         0\n",
       "\n",
       "[6871 rows x 4 columns]"
      ]
     },
     "execution_count": 3,
     "metadata": {},
     "output_type": "execute_result"
    }
   ],
   "source": [
    "df = df[['FG3_PCT_home','FG3_PCT_away','HOME_TEAM_WINS']]\n",
    "df['HOME_3PT'] = (df.FG3_PCT_home > df.FG3_PCT_away)*1\n",
    "df"
   ]
  },
  {
   "cell_type": "markdown",
   "metadata": {},
   "source": [
    "Treatment:\n",
    "- there are 4826 instance in the treatment group\n",
    "- Proportion of instance where a team that has a higher 3pt-fg than its opponent won is 56.75%"
   ]
  },
  {
   "cell_type": "code",
   "execution_count": 4,
   "metadata": {},
   "outputs": [
    {
     "name": "stdout",
     "output_type": "stream",
     "text": [
      "4826\n"
     ]
    },
    {
     "data": {
      "text/plain": [
       "0.5675507666804808"
      ]
     },
     "execution_count": 4,
     "metadata": {},
     "output_type": "execute_result"
    }
   ],
   "source": [
    "# (higher 3pt)\n",
    "treatment = df.query(\"(HOME_TEAM_WINS == 1 & HOME_3PT == 1) | (HOME_TEAM_WINS == 0 & HOME_3PT == 0)\")\n",
    "print(treatment.shape[0])\n",
    "n_treatment = (treatment['HOME_TEAM_WINS'] == 1).sum()\n",
    "p_obs_treatment = n_treatment/treatment.shape[0]\n",
    "p_obs_treatment"
   ]
  },
  {
   "cell_type": "markdown",
   "metadata": {},
   "source": [
    "Control:\n",
    "- there are 2045 instance in the control group\n",
    "- Proportion of instance where a team that has a lower or same 3pt-fg than its opponent won is 59.8%"
   ]
  },
  {
   "cell_type": "code",
   "execution_count": 5,
   "metadata": {},
   "outputs": [
    {
     "name": "stdout",
     "output_type": "stream",
     "text": [
      "2045\n"
     ]
    },
    {
     "data": {
      "text/plain": [
       "0.5980440097799511"
      ]
     },
     "execution_count": 5,
     "metadata": {},
     "output_type": "execute_result"
    }
   ],
   "source": [
    "# (lower/equal 3pt)\n",
    "control = df.query(\"(HOME_TEAM_WINS == 0 & HOME_3PT == 1) | (HOME_TEAM_WINS == 1 & HOME_3PT == 0)\")\n",
    "print(control.shape[0])\n",
    "n_control = (control['HOME_TEAM_WINS'] == 1).sum()\n",
    "p_obs_control = n_control/control.shape[0]\n",
    "p_obs_control"
   ]
  },
  {
   "cell_type": "markdown",
   "metadata": {},
   "source": [
    "### A/B Test\n",
    "Assuming I have to consider the question whether higher team 3pt-fg percentage wins more games based on the observation data we obtained only at a Type I error rate of 5%, what would the null hypothesis be?\n",
    "\n",
    "#### Hypothsis Test\n",
    "- $H_0$ = Higher team 3pt-fg percentage does not win more games. `P_higher_3pt_win - P_not_higher_win = 0`\n",
    "- $H_1$ = Higher team 3pt-fg percentage wins more games. `P_higher_3pt_win > P_not_higher_win`\n",
    "\n",
    "For this A/B test, under the assumption that $H_0 = true$, we want to know whether higher team 3pt-fg percentage wins more games?"
   ]
  },
  {
   "cell_type": "markdown",
   "metadata": {},
   "source": [
    "We will use bootstrapping to simulate 10,000 samples. And for each of them, we will measure the difference of `P_higher_3pt_win` and `P_not_higher_win`"
   ]
  },
  {
   "cell_type": "code",
   "execution_count": 7,
   "metadata": {},
   "outputs": [],
   "source": [
    "p_diffs = []\n",
    "for _ in range(10000):\n",
    "    higher_3pt_win = np.random.binomial(1,p_obs_treatment,treatment.shape[0])\n",
    "    not_higher_win = np.random.binomial(1,p_obs_control,control.shape[0])\n",
    "    p_diffs.append(higher_3pt_win.mean() - not_higher_win.mean())"
   ]
  },
  {
   "cell_type": "markdown",
   "metadata": {},
   "source": [
    "`p_obs_diff` is the difference of `P_higher_3pt_win` and `P_not_higher_win` of our observation data above"
   ]
  },
  {
   "cell_type": "code",
   "execution_count": 8,
   "metadata": {},
   "outputs": [
    {
     "data": {
      "text/plain": [
       "-0.030493243099470324"
      ]
     },
     "execution_count": 8,
     "metadata": {},
     "output_type": "execute_result"
    }
   ],
   "source": [
    "p_obs_diff = p_obs_treatment - p_obs_control\n",
    "p_obs_diff"
   ]
  },
  {
   "cell_type": "code",
   "execution_count": 9,
   "metadata": {},
   "outputs": [
    {
     "data": {
      "image/png": "[encoded data removed]",
      "text/plain": [
       "<Figure size 432x288 with 1 Axes>"
      ]
     },
     "metadata": {
      "needs_background": "light"
     },
     "output_type": "display_data"
    }
   ],
   "source": [
    "p_diffs = np.array(p_diffs)\n",
    "plt.hist(p_diffs)\n",
    "plt.axvline(x = p_obs_diff,c='red')\n",
    "plt.show()"
   ]
  },
  {
   "cell_type": "markdown",
   "metadata": {},
   "source": [
    "At a Type I error rate of 5%, p-value is larger than the error rate, and therefore we **fail to reject** the Null hypothesis. There is a probability of 50.34% that team will lower or equal 3pt-fg as the opponent team wins the game."
   ]
  },
  {
   "cell_type": "code",
   "execution_count": 10,
   "metadata": {},
   "outputs": [
    {
     "data": {
      "text/plain": [
       "0.4954"
      ]
     },
     "execution_count": 10,
     "metadata": {},
     "output_type": "execute_result"
    }
   ],
   "source": [
    "p_value = (p_diffs > p_obs_diff).mean()\n",
    "p_value"
   ]
  },
  {
   "cell_type": "code",
   "execution_count": null,
   "metadata": {},
   "outputs": [],
   "source": []
  }
 ],
 "metadata": {
  "kernelspec": {
   "display_name": "Python 3",
   "language": "python",
   "name": "python3"
  },
  "language_info": {
   "codemirror_mode": {
    "name": "ipython",
    "version": 3
   },
   "file_extension": ".py",
   "mimetype": "text/x-python",
   "name": "python",
   "nbconvert_exporter": "python",
   "pygments_lexer": "ipython3",
   "version": "3.8.5"
  }
 },
 "nbformat": 4,
 "nbformat_minor": 4
}
